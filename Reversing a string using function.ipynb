{
 "cells": [
  {
   "cell_type": "code",
   "execution_count": 5,
   "id": "f2781ad7",
   "metadata": {},
   "outputs": [
    {
     "name": "stdout",
     "output_type": "stream",
     "text": [
      "Enter a string:Function\n",
      "The original string is: Function\n",
      "The reversed string is:  noitcnuF\n"
     ]
    }
   ],
   "source": [
    "# Reversing a string using function\n",
    "\n",
    "def reversestring(str1):\n",
    "    newstr = ' '\n",
    "    length = len(str1)\n",
    "    for i in range(-1, -length - 1, -1):\n",
    "        newstr += str1[i]\n",
    "    return newstr\n",
    "str1 = input(\"Enter a string:\")\n",
    "strr = reversestring(str1)\n",
    "print(\"The original string is:\", str1)\n",
    "print(\"The reversed string is:\", strr)"
   ]
  },
  {
   "cell_type": "code",
   "execution_count": null,
   "id": "7dcfa981",
   "metadata": {},
   "outputs": [],
   "source": []
  }
 ],
 "metadata": {
  "kernelspec": {
   "display_name": "Python 3 (ipykernel)",
   "language": "python",
   "name": "python3"
  },
  "language_info": {
   "codemirror_mode": {
    "name": "ipython",
    "version": 3
   },
   "file_extension": ".py",
   "mimetype": "text/x-python",
   "name": "python",
   "nbconvert_exporter": "python",
   "pygments_lexer": "ipython3",
   "version": "3.10.9"
  }
 },
 "nbformat": 4,
 "nbformat_minor": 5
}
