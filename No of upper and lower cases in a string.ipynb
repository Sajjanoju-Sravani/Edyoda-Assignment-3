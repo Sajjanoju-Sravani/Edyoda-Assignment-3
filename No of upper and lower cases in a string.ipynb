{
 "cells": [
  {
   "cell_type": "code",
   "execution_count": 5,
   "id": "368ad4ee",
   "metadata": {},
   "outputs": [
    {
     "name": "stdout",
     "output_type": "stream",
     "text": [
      "Enter a string:PyThOn pRoGraM\n",
      "Upper case count is 6 Lower case count is 7\n"
     ]
    }
   ],
   "source": [
    "# No of upper and lower cases in a string\n",
    "\n",
    "def count_upper_lower(string1):\n",
    "    upper_count = 0\n",
    "    lower_count = 0\n",
    "    for char in string1:\n",
    "        if char.isupper():\n",
    "            upper_count += 1\n",
    "        elif char.islower():\n",
    "            lower_count += 1\n",
    "    print(\"Upper case count is %d Lower case count is %d\" %(upper_count, lower_count))\n",
    "\n",
    "temp = input(\"Enter a string:\")\n",
    "count_upper_lower(temp)"
   ]
  }
 ],
 "metadata": {
  "kernelspec": {
   "display_name": "Python 3 (ipykernel)",
   "language": "python",
   "name": "python3"
  },
  "language_info": {
   "codemirror_mode": {
    "name": "ipython",
    "version": 3
   },
   "file_extension": ".py",
   "mimetype": "text/x-python",
   "name": "python",
   "nbconvert_exporter": "python",
   "pygments_lexer": "ipython3",
   "version": "3.10.9"
  }
 },
 "nbformat": 4,
 "nbformat_minor": 5
}
